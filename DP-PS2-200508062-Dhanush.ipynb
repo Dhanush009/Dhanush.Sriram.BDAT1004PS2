{
 "cells": [
  {
   "cell_type": "markdown",
   "id": "205f3c76",
   "metadata": {},
   "source": [
    "# Question 1"
   ]
  },
  {
   "cell_type": "code",
   "execution_count": 10,
   "id": "06a74b21",
   "metadata": {},
   "outputs": [
    {
     "data": {
      "text/plain": [
       "6"
      ]
     },
     "execution_count": 10,
     "metadata": {},
     "output_type": "execute_result"
    }
   ],
   "source": [
    "a = 0\n",
    "\n",
    "def b():\n",
    " global a\n",
    " a = c(a)\n",
    "\n",
    "def c(a):\n",
    " return a + 2\n",
    "\n",
    "b()\n",
    "b()\n",
    "b()\n",
    "a"
   ]
  },
  {
   "cell_type": "markdown",
   "id": "7988bb4c",
   "metadata": {},
   "source": [
    "-> From the code above,it is clear that variable 'a' is first assigned to value '0'.\n",
    "\n",
    "->When function 'b' is called for the first time, 'a' in function 'b' which has a global scope gets assigned to value '0' as well.Function 'b' calls function 'c' which takes 'a' as an argument and returns a value 'a + 2' which here would be '0 + 2' and this value('2') would now be assigned to 'a' in function 'b'.\n",
    "\n",
    "->When function 'b' is called the second time, 'a' in function 'b' is assigned to '2'.Function 'b' calls function 'c' which takes 'a' as an argument, now returns a value '2 + 2' and this value('4') would now be assigned to 'a' in function 'b'.\n",
    "\n",
    "->When function 'b' is called the third time, 'a' in function 'b' is assigned to '4'.Function 'b' calls function 'c' which takes 'a' as an argument, now returns a value '4 + 2' and this value('6') would now be assigned to 'a' in function 'b'.\n",
    "\n",
    "->Finally, variable 'a' now contains value 6 which is displayed in our shell."
   ]
  },
  {
   "cell_type": "markdown",
   "id": "83b77010",
   "metadata": {},
   "source": [
    "# Question 2"
   ]
  },
  {
   "cell_type": "code",
   "execution_count": 1,
   "id": "3fd1f402",
   "metadata": {},
   "outputs": [],
   "source": [
    "def file_length(file_name):\n",
    "    'Returns length of file content in case if file exists'\n",
    "    try:\n",
    "        file = open(file_name)\n",
    "        contents = file.read()\n",
    "        file.close()\n",
    "        print(len(contents))\n",
    "    except FileNotFoundError:\n",
    "        print(\"File {} not found.\".format(file_name))\n",
    "    "
   ]
  },
  {
   "cell_type": "code",
   "execution_count": 2,
   "id": "932649f8",
   "metadata": {},
   "outputs": [
    {
     "name": "stdout",
     "output_type": "stream",
     "text": [
      "File curr.txt not found.\n"
     ]
    }
   ],
   "source": [
    "file_length('curr.txt')"
   ]
  },
  {
   "cell_type": "code",
   "execution_count": 3,
   "id": "860187b6",
   "metadata": {},
   "outputs": [
    {
     "name": "stdout",
     "output_type": "stream",
     "text": [
      "477\n"
     ]
    }
   ],
   "source": [
    "file_length('currencies.txt')"
   ]
  },
  {
   "cell_type": "markdown",
   "id": "8738c32e",
   "metadata": {},
   "source": [
    "# Question 3"
   ]
  },
  {
   "cell_type": "code",
   "execution_count": 4,
   "id": "4e4fa1eb",
   "metadata": {},
   "outputs": [
    {
     "data": {
      "text/plain": [
       "['doll', 'firetruck', 'kitten']"
      ]
     },
     "execution_count": 4,
     "metadata": {},
     "output_type": "execute_result"
    }
   ],
   "source": [
    "class Marsupial:\n",
    "    \n",
    "    def __init__(self):\n",
    "        self.lst = []\n",
    "    \n",
    "    def put_in_pouch(self,x):\n",
    "        'Adds element to the pouch' \n",
    "        self.lst.append(x)\n",
    "    \n",
    "    def pouch_contents(self):\n",
    "        'Returns contents in the pouch'\n",
    "        return self.lst\n",
    "\n",
    "m = Marsupial()\n",
    "m.put_in_pouch('doll')\n",
    "m.put_in_pouch('firetruck')\n",
    "m.put_in_pouch('kitten')\n",
    "m.pouch_contents()"
   ]
  },
  {
   "cell_type": "code",
   "execution_count": 5,
   "id": "813f9c4f",
   "metadata": {},
   "outputs": [
    {
     "name": "stdout",
     "output_type": "stream",
     "text": [
      "I am a Kangaroo located at coordinates (0,0)\n"
     ]
    },
    {
     "data": {
      "text/plain": [
       "['doll', 'firetruck', 'kitten']"
      ]
     },
     "execution_count": 5,
     "metadata": {},
     "output_type": "execute_result"
    }
   ],
   "source": [
    "class Kangaroo(Marsupial):\n",
    "    \n",
    "    def __init__(self,x=0,y=0):\n",
    "        self.x = x\n",
    "        self.y = y\n",
    "        super(Kangaroo, self).__init__()\n",
    "    \n",
    "    def jump(self,dx,dy):\n",
    "        # Adds distance by which kangaroo jumps from its actual position\n",
    "        self.x = self.x + dx\n",
    "        self.y = self.y + dy\n",
    "    \n",
    "    def __str__(self):\n",
    "        \n",
    "        return 'I am a Kangaroo located at coordinates ('+str(self.x)+','+str(self.y)+')'\n",
    "\n",
    "k = Kangaroo(0,0)\n",
    "print(k)\n",
    "k.put_in_pouch('doll')\n",
    "k.put_in_pouch('firetruck')\n",
    "k.put_in_pouch('kitten')\n",
    "k.pouch_contents()\n"
   ]
  },
  {
   "cell_type": "code",
   "execution_count": 6,
   "id": "8b6da39f",
   "metadata": {},
   "outputs": [
    {
     "name": "stdout",
     "output_type": "stream",
     "text": [
      "I am a Kangaroo located at coordinates (3,0)\n"
     ]
    }
   ],
   "source": [
    "k.jump(1,0)\n",
    "k.jump(1,0)\n",
    "k.jump(1,0)\n",
    "print(k)"
   ]
  },
  {
   "cell_type": "markdown",
   "id": "e499c145",
   "metadata": {},
   "source": [
    "# Question 4"
   ]
  },
  {
   "cell_type": "code",
   "execution_count": 7,
   "id": "348ae7df",
   "metadata": {},
   "outputs": [],
   "source": [
    "def collatz(x):\n",
    "    'returns collatz sequence from x specified'\n",
    "    print(x)\n",
    "    if x==1:\n",
    "        return\n",
    "    elif (x%2)==0:\n",
    "        return collatz(x//2)\n",
    "    elif (x%2)!=0:\n",
    "        return collatz((3*x)+1)"
   ]
  },
  {
   "cell_type": "code",
   "execution_count": 8,
   "id": "0048d848",
   "metadata": {},
   "outputs": [
    {
     "name": "stdout",
     "output_type": "stream",
     "text": [
      "1\n"
     ]
    }
   ],
   "source": [
    "collatz(1)"
   ]
  },
  {
   "cell_type": "code",
   "execution_count": 9,
   "id": "9d024e78",
   "metadata": {},
   "outputs": [
    {
     "name": "stdout",
     "output_type": "stream",
     "text": [
      "10\n",
      "5\n",
      "16\n",
      "8\n",
      "4\n",
      "2\n",
      "1\n"
     ]
    }
   ],
   "source": [
    "collatz(10)"
   ]
  },
  {
   "cell_type": "markdown",
   "id": "bcaf1aed",
   "metadata": {},
   "source": [
    "# Question 5"
   ]
  },
  {
   "cell_type": "code",
   "execution_count": 10,
   "id": "b6b4f505",
   "metadata": {},
   "outputs": [],
   "source": [
    "def binary(n):\n",
    "    'Returns inary version of the numbe specified'\n",
    "    if n<1:\n",
    "        return n\n",
    "    else:\n",
    "        binary(n//2)\n",
    "        print(n%2,end=\"\")\n",
    "        \n",
    "    "
   ]
  },
  {
   "cell_type": "code",
   "execution_count": 11,
   "id": "0c036f8a",
   "metadata": {},
   "outputs": [
    {
     "name": "stdout",
     "output_type": "stream",
     "text": [
      "1"
     ]
    }
   ],
   "source": [
    "binary(1)"
   ]
  },
  {
   "cell_type": "code",
   "execution_count": 12,
   "id": "86023559",
   "metadata": {},
   "outputs": [
    {
     "name": "stdout",
     "output_type": "stream",
     "text": [
      "11"
     ]
    }
   ],
   "source": [
    "binary(3)"
   ]
  },
  {
   "cell_type": "code",
   "execution_count": 13,
   "id": "d03c9be1",
   "metadata": {},
   "outputs": [
    {
     "name": "stdout",
     "output_type": "stream",
     "text": [
      "1001"
     ]
    }
   ],
   "source": [
    "binary(9)"
   ]
  },
  {
   "cell_type": "markdown",
   "id": "37956d84",
   "metadata": {},
   "source": [
    "# Question 6"
   ]
  },
  {
   "cell_type": "code",
   "execution_count": 59,
   "id": "11e9b835",
   "metadata": {},
   "outputs": [
    {
     "name": "stdout",
     "output_type": "stream",
     "text": [
      "W3C Mission\n",
      " Principles\n"
     ]
    }
   ],
   "source": [
    "from html.parser import HTMLParser\n",
    "import re\n",
    "\n",
    "class HeadingParser(HTMLParser):\n",
    "    header = False\n",
    "    \n",
    "    def handle_starttag(self, tag, attrs):\n",
    "        x=re.search('h[0-9]',tag)\n",
    "        if x:\n",
    "            self.header = True\n",
    "            print((int(tag[1])-1)*' ',end=\"\")\n",
    "    \n",
    "    def handle_data(self, data):\n",
    "        if self.header:\n",
    "            print(data)\n",
    "            \n",
    "    def handle_endtag(self, tag):\n",
    "        x=re.search('h[0-9]',tag)\n",
    "        if x:\n",
    "            self.header = False\n",
    "\n",
    "infile = open('w3c.html')\n",
    "content = infile.read()\n",
    "infile.close()\n",
    "hp = HeadingParser()\n",
    "hp.feed(content)"
   ]
  },
  {
   "cell_type": "markdown",
   "id": "204c2433",
   "metadata": {},
   "source": [
    "# Question 7"
   ]
  },
  {
   "cell_type": "code",
   "execution_count": 122,
   "id": "afe886e2",
   "metadata": {},
   "outputs": [
    {
     "name": "stdout",
     "output_type": "stream",
     "text": [
      "http://reed.cs.depaul.edu/lperkovic/test1.html\n",
      " http://reed.cs.depaul.edu/lperkovic/test2.html\n",
      "  http://reed.cs.depaul.edu/lperkovic/test4.html\n",
      " http://reed.cs.depaul.edu/lperkovic/test3.html\n",
      "  http://reed.cs.depaul.edu/lperkovic/test4.html\n"
     ]
    }
   ],
   "source": [
    "from urllib.parse import urljoin\n",
    "from urllib.request import urlopen\n",
    "from html.parser import HTMLParser\n",
    "\n",
    "class Collector(HTMLParser):\n",
    "    \n",
    "    def __init__(self,url):\n",
    "        HTMLParser.__init__(self)\n",
    "        self.url=url\n",
    "        self.links=[]\n",
    "       \n",
    "        \n",
    "    def handle_starttag(self,tag,attrs):\n",
    "        if tag=='a':\n",
    "            for attr in attrs:\n",
    "                if attr[0] == 'href':\n",
    "                    absolute = urljoin(url,attr[1])\n",
    "                    \n",
    "                    if absolute[:4]=='http':\n",
    "                        self.links.append(absolute)\n",
    "                        \n",
    "    def getLinks(self):\n",
    "        # Returns links accumulated from the url specified\n",
    "        return self.links\n",
    "\n",
    "    \n",
    "def webdir(url,depth,indent):\n",
    "    \n",
    "    f = urlopen(url)\n",
    "    cont = f.read().decode()\n",
    "    c = Collector(url)\n",
    "    c.feed(cont)\n",
    "    x=c.getLinks()\n",
    "    \n",
    "    if len(x)>0:\n",
    "        for i in x:\n",
    "            d=1\n",
    "            print(((indent+d)*' ')+i)\n",
    "            if(d<depth):\n",
    "                webdir(str(i),depth,indent+1)\n",
    "                d+=1\n",
    "            \n",
    "url='http://reed.cs.depaul.edu/lperkovic/test1.html'\n",
    "print(url)\n",
    "webdir(url,2,0)"
   ]
  },
  {
   "cell_type": "markdown",
   "id": "ee23e385",
   "metadata": {},
   "source": [
    "# Question 8"
   ]
  },
  {
   "cell_type": "code",
   "execution_count": 96,
   "id": "d4ab0ca9",
   "metadata": {},
   "outputs": [],
   "source": [
    "import sqlite3\n",
    "conn = sqlite3.connect('PSet2')\n",
    "curr=conn.cursor()\n",
    "\n",
    "curr.execute(\"CREATE TABLE rcise(City text,Country text,Season text,Temperature real,Rainfall real)\")\n",
    "curr.execute(\"insert into rcise values ('Mumbai','India','Winter',24.8,5.9),('Mumbai','India','Spring',28.4,16.2)\")\n",
    "curr.execute(\"insert into rcise values  ('Mumbai','India','Summer',27.9,1549.4),('Mumbai','India','Fall',27.6,346.0)\")\n",
    "curr.execute(\"insert into rcise values ('London','United Kingdom','Winter',4.2,207.7),('London','United Kingdom','Spring',8.3,169.6)\")\n",
    "curr.execute(\"insert into rcise values ('London','United Kingdom','Summer',15.7,157.0),('London','United Kingdom','Fall',10.4,218.5)\")\n",
    "curr.execute(\"insert into rcise values ('Cairo','Egypt','Winter',13.6,16.5),('Cairo','Egypt','Spring',20.7,6.5)\")\n",
    "curr.execute(\"insert into rcise values ('Cairo','Egypt','Summer',27.7,0.1),('Cairo','Egypt','Fall',22.2,4.5)\")\n",
    "             \n",
    "\n",
    "curr.execute('select Country  from rcise')\n",
    "curr.fetchall()\n",
    "\n",
    "conn.commit()\n",
    "\n"
   ]
  },
  {
   "cell_type": "markdown",
   "id": "cf8d8068",
   "metadata": {},
   "source": [
    "## a)"
   ]
  },
  {
   "cell_type": "code",
   "execution_count": 99,
   "id": "8cf3e7c9",
   "metadata": {},
   "outputs": [
    {
     "data": {
      "text/plain": [
       "[(24.8,),\n",
       " (28.4,),\n",
       " (27.9,),\n",
       " (27.6,),\n",
       " (4.2,),\n",
       " (8.3,),\n",
       " (15.7,),\n",
       " (10.4,),\n",
       " (13.6,),\n",
       " (20.7,),\n",
       " (27.7,),\n",
       " (22.2,)]"
      ]
     },
     "execution_count": 99,
     "metadata": {},
     "output_type": "execute_result"
    }
   ],
   "source": [
    "curr.execute(\"select Temperature from rcise\")\n",
    "curr.fetchall()"
   ]
  },
  {
   "cell_type": "markdown",
   "id": "7aaa5439",
   "metadata": {},
   "source": [
    "## b)"
   ]
  },
  {
   "cell_type": "code",
   "execution_count": 100,
   "id": "f2375f79",
   "metadata": {},
   "outputs": [
    {
     "data": {
      "text/plain": [
       "[('Mumbai',), ('London',), ('Cairo',)]"
      ]
     },
     "execution_count": 100,
     "metadata": {},
     "output_type": "execute_result"
    }
   ],
   "source": [
    "curr.execute(\"select distinct(City) from rcise\")\n",
    "curr.fetchall()"
   ]
  },
  {
   "cell_type": "markdown",
   "id": "1920ad59",
   "metadata": {},
   "source": [
    "## c)"
   ]
  },
  {
   "cell_type": "code",
   "execution_count": 101,
   "id": "b4111895",
   "metadata": {},
   "outputs": [
    {
     "data": {
      "text/plain": [
       "[('Mumbai', 'India', 'Winter', 24.8, 5.9),\n",
       " ('Mumbai', 'India', 'Spring', 28.4, 16.2),\n",
       " ('Mumbai', 'India', 'Summer', 27.9, 1549.4),\n",
       " ('Mumbai', 'India', 'Fall', 27.6, 346.0)]"
      ]
     },
     "execution_count": 101,
     "metadata": {},
     "output_type": "execute_result"
    }
   ],
   "source": [
    "curr.execute(\"select * from rcise where Country = 'India'\")\n",
    "curr.fetchall()"
   ]
  },
  {
   "cell_type": "markdown",
   "id": "5fffd6ba",
   "metadata": {},
   "source": [
    "## d)"
   ]
  },
  {
   "cell_type": "code",
   "execution_count": 102,
   "id": "28d07ab2",
   "metadata": {},
   "outputs": [
    {
     "data": {
      "text/plain": [
       "[('Mumbai', 'India', 'Fall', 27.6, 346.0),\n",
       " ('London', 'United Kingdom', 'Fall', 10.4, 218.5),\n",
       " ('Cairo', 'Egypt', 'Fall', 22.2, 4.5)]"
      ]
     },
     "execution_count": 102,
     "metadata": {},
     "output_type": "execute_result"
    }
   ],
   "source": [
    "curr.execute(\"select * from rcise where Season = 'Fall' \")\n",
    "curr.fetchall()"
   ]
  },
  {
   "cell_type": "markdown",
   "id": "fd6c4263",
   "metadata": {},
   "source": [
    "## e)"
   ]
  },
  {
   "cell_type": "code",
   "execution_count": 103,
   "id": "4ce9d9de",
   "metadata": {},
   "outputs": [
    {
     "data": {
      "text/plain": [
       "[('Mumbai', 'India', 'Fall'),\n",
       " ('London', 'United Kingdom', 'Winter'),\n",
       " ('London', 'United Kingdom', 'Fall')]"
      ]
     },
     "execution_count": 103,
     "metadata": {},
     "output_type": "execute_result"
    }
   ],
   "source": [
    "curr.execute(\"select City,Country,Season from rcise where Rainfall between 200 and 400\")\n",
    "curr.fetchall()"
   ]
  },
  {
   "cell_type": "markdown",
   "id": "bdef7876",
   "metadata": {},
   "source": [
    "## f)"
   ]
  },
  {
   "cell_type": "code",
   "execution_count": 108,
   "id": "e9a18a3a",
   "metadata": {},
   "outputs": [
    {
     "data": {
      "text/plain": [
       "[('Cairo', 'Egypt'), ('Mumbai', 'India')]"
      ]
     },
     "execution_count": 108,
     "metadata": {},
     "output_type": "execute_result"
    }
   ],
   "source": [
    "curr.execute(\"select City,Country from rcise where Season = 'Fall' and Temperature > 20 order by Temperature \")\n",
    "curr.fetchall()"
   ]
  },
  {
   "cell_type": "markdown",
   "id": "151cbf7c",
   "metadata": {},
   "source": [
    "## g)"
   ]
  },
  {
   "cell_type": "code",
   "execution_count": 109,
   "id": "efbf80da",
   "metadata": {},
   "outputs": [
    {
     "data": {
      "text/plain": [
       "[(27.6,)]"
      ]
     },
     "execution_count": 109,
     "metadata": {},
     "output_type": "execute_result"
    }
   ],
   "source": [
    "curr.execute(\"select sum(Rainfall) from rcise where City = 'Cairo' \")\n",
    "curr.fetchall()"
   ]
  },
  {
   "cell_type": "markdown",
   "id": "24017f70",
   "metadata": {},
   "source": [
    "## h)"
   ]
  },
  {
   "cell_type": "code",
   "execution_count": 111,
   "id": "9bc31770",
   "metadata": {},
   "outputs": [
    {
     "data": {
      "text/plain": [
       "[('Fall', 569.0),\n",
       " ('Spring', 192.29999999999998),\n",
       " ('Summer', 1706.5),\n",
       " ('Winter', 230.1)]"
      ]
     },
     "execution_count": 111,
     "metadata": {},
     "output_type": "execute_result"
    }
   ],
   "source": [
    "curr.execute(\"select Season,sum(Rainfall) from rcise group by Season\")\n",
    "curr.fetchall()"
   ]
  },
  {
   "cell_type": "markdown",
   "id": "accbbef1",
   "metadata": {},
   "source": [
    "## Question 9"
   ]
  },
  {
   "cell_type": "code",
   "execution_count": 112,
   "id": "16ca6913",
   "metadata": {},
   "outputs": [],
   "source": [
    "words = ['The', 'quick', 'brown', 'fox', 'jumps', 'over','the', 'lazy', 'dog']"
   ]
  },
  {
   "cell_type": "markdown",
   "id": "c00d36bf",
   "metadata": {},
   "source": [
    "### a)"
   ]
  },
  {
   "cell_type": "code",
   "execution_count": 117,
   "id": "f49c47cf",
   "metadata": {},
   "outputs": [
    {
     "data": {
      "text/plain": [
       "['THE', 'QUICK', 'BROWN', 'FOX', 'JUMPS', 'OVER', 'THE', 'LAZY', 'DOG']"
      ]
     },
     "execution_count": 117,
     "metadata": {},
     "output_type": "execute_result"
    }
   ],
   "source": [
    "newList1 = [x.upper() for x in words]\n",
    "newList1"
   ]
  },
  {
   "cell_type": "markdown",
   "id": "d8d545bb",
   "metadata": {},
   "source": [
    "### b)"
   ]
  },
  {
   "cell_type": "code",
   "execution_count": 118,
   "id": "6367a900",
   "metadata": {},
   "outputs": [
    {
     "data": {
      "text/plain": [
       "['the', 'quick', 'brown', 'fox', 'jumps', 'over', 'the', 'lazy', 'dog']"
      ]
     },
     "execution_count": 118,
     "metadata": {},
     "output_type": "execute_result"
    }
   ],
   "source": [
    "newList2 = [x.lower() for x in words]\n",
    "newList2"
   ]
  },
  {
   "cell_type": "markdown",
   "id": "bc56a644",
   "metadata": {},
   "source": [
    "### c)"
   ]
  },
  {
   "cell_type": "code",
   "execution_count": 119,
   "id": "ab68fcf8",
   "metadata": {},
   "outputs": [
    {
     "data": {
      "text/plain": [
       "[3, 5, 5, 3, 5, 4, 3, 4, 3]"
      ]
     },
     "execution_count": 119,
     "metadata": {},
     "output_type": "execute_result"
    }
   ],
   "source": [
    "newList3 = [len(x) for x in words]\n",
    "newList3"
   ]
  },
  {
   "cell_type": "markdown",
   "id": "d96c40bd",
   "metadata": {},
   "source": [
    "### d)"
   ]
  },
  {
   "cell_type": "code",
   "execution_count": 120,
   "id": "6f1961aa",
   "metadata": {},
   "outputs": [
    {
     "data": {
      "text/plain": [
       "[['THE', 'the', 3],\n",
       " ['QUICK', 'quick', 5],\n",
       " ['BROWN', 'brown', 5],\n",
       " ['FOX', 'fox', 3],\n",
       " ['JUMPS', 'jumps', 5],\n",
       " ['OVER', 'over', 4],\n",
       " ['THE', 'the', 3],\n",
       " ['LAZY', 'lazy', 4],\n",
       " ['DOG', 'dog', 3]]"
      ]
     },
     "execution_count": 120,
     "metadata": {},
     "output_type": "execute_result"
    }
   ],
   "source": [
    "newList4 = [[x.upper(),x.lower(),len(x)] for x in words]\n",
    "newList4"
   ]
  },
  {
   "cell_type": "markdown",
   "id": "dc3bcad3",
   "metadata": {},
   "source": [
    "### e)"
   ]
  },
  {
   "cell_type": "code",
   "execution_count": 121,
   "id": "2003c05d",
   "metadata": {},
   "outputs": [
    {
     "data": {
      "text/plain": [
       "['quick', 'brown', 'jumps', 'over', 'lazy']"
      ]
     },
     "execution_count": 121,
     "metadata": {},
     "output_type": "execute_result"
    }
   ],
   "source": [
    "newList5 = [x for x in words if len(x)>=4]\n",
    "newList5"
   ]
  },
  {
   "cell_type": "code",
   "execution_count": null,
   "id": "f65eb9a2",
   "metadata": {},
   "outputs": [],
   "source": []
  }
 ],
 "metadata": {
  "kernelspec": {
   "display_name": "Python 3 (ipykernel)",
   "language": "python",
   "name": "python3"
  },
  "language_info": {
   "codemirror_mode": {
    "name": "ipython",
    "version": 3
   },
   "file_extension": ".py",
   "mimetype": "text/x-python",
   "name": "python",
   "nbconvert_exporter": "python",
   "pygments_lexer": "ipython3",
   "version": "3.9.7"
  }
 },
 "nbformat": 4,
 "nbformat_minor": 5
}
